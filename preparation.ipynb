{
 "cells": [
  {
   "cell_type": "code",
   "execution_count": 13,
   "id": "deed69ab",
   "metadata": {},
   "outputs": [],
   "source": [
    "import pandas as pd\n",
    "import numpy as np\n",
    "import matplotlib.pyplot as plt\n",
    "import seaborn as sns"
   ]
  },
  {
   "cell_type": "code",
   "execution_count": 14,
   "id": "b4f3df60",
   "metadata": {},
   "outputs": [
    {
     "data": {
      "text/html": [
       "<div>\n",
       "<style scoped>\n",
       "    .dataframe tbody tr th:only-of-type {\n",
       "        vertical-align: middle;\n",
       "    }\n",
       "\n",
       "    .dataframe tbody tr th {\n",
       "        vertical-align: top;\n",
       "    }\n",
       "\n",
       "    .dataframe thead th {\n",
       "        text-align: right;\n",
       "    }\n",
       "</style>\n",
       "<table border=\"1\" class=\"dataframe\">\n",
       "  <thead>\n",
       "    <tr style=\"text-align: right;\">\n",
       "      <th></th>\n",
       "      <th>index_x</th>\n",
       "      <th>item</th>\n",
       "      <th>sale_amount</th>\n",
       "      <th>sale_date</th>\n",
       "      <th>sale_id</th>\n",
       "      <th>store</th>\n",
       "      <th>level_0</th>\n",
       "      <th>index_y</th>\n",
       "      <th>item_brand</th>\n",
       "      <th>item_id</th>\n",
       "      <th>item_name</th>\n",
       "      <th>item_price</th>\n",
       "      <th>item_upc12</th>\n",
       "      <th>item_upc14</th>\n",
       "      <th>store_address</th>\n",
       "      <th>store_city</th>\n",
       "      <th>store_id</th>\n",
       "      <th>store_state</th>\n",
       "      <th>store_zipcode</th>\n",
       "    </tr>\n",
       "  </thead>\n",
       "  <tbody>\n",
       "    <tr>\n",
       "      <th>0</th>\n",
       "      <td>0</td>\n",
       "      <td>1</td>\n",
       "      <td>13.0</td>\n",
       "      <td>Tue, 01 Jan 2013 00:00:00 GMT</td>\n",
       "      <td>1</td>\n",
       "      <td>1</td>\n",
       "      <td>0</td>\n",
       "      <td>0.0</td>\n",
       "      <td>Riceland</td>\n",
       "      <td>1</td>\n",
       "      <td>Riceland American Jazmine Rice</td>\n",
       "      <td>0.84</td>\n",
       "      <td>35200264013</td>\n",
       "      <td>35200264013</td>\n",
       "      <td>12125 Alamo Ranch Pkwy</td>\n",
       "      <td>San Antonio</td>\n",
       "      <td>1</td>\n",
       "      <td>TX</td>\n",
       "      <td>78253</td>\n",
       "    </tr>\n",
       "    <tr>\n",
       "      <th>1</th>\n",
       "      <td>1</td>\n",
       "      <td>1</td>\n",
       "      <td>11.0</td>\n",
       "      <td>Wed, 02 Jan 2013 00:00:00 GMT</td>\n",
       "      <td>2</td>\n",
       "      <td>1</td>\n",
       "      <td>0</td>\n",
       "      <td>0.0</td>\n",
       "      <td>Riceland</td>\n",
       "      <td>1</td>\n",
       "      <td>Riceland American Jazmine Rice</td>\n",
       "      <td>0.84</td>\n",
       "      <td>35200264013</td>\n",
       "      <td>35200264013</td>\n",
       "      <td>12125 Alamo Ranch Pkwy</td>\n",
       "      <td>San Antonio</td>\n",
       "      <td>1</td>\n",
       "      <td>TX</td>\n",
       "      <td>78253</td>\n",
       "    </tr>\n",
       "    <tr>\n",
       "      <th>2</th>\n",
       "      <td>2</td>\n",
       "      <td>1</td>\n",
       "      <td>14.0</td>\n",
       "      <td>Thu, 03 Jan 2013 00:00:00 GMT</td>\n",
       "      <td>3</td>\n",
       "      <td>1</td>\n",
       "      <td>0</td>\n",
       "      <td>0.0</td>\n",
       "      <td>Riceland</td>\n",
       "      <td>1</td>\n",
       "      <td>Riceland American Jazmine Rice</td>\n",
       "      <td>0.84</td>\n",
       "      <td>35200264013</td>\n",
       "      <td>35200264013</td>\n",
       "      <td>12125 Alamo Ranch Pkwy</td>\n",
       "      <td>San Antonio</td>\n",
       "      <td>1</td>\n",
       "      <td>TX</td>\n",
       "      <td>78253</td>\n",
       "    </tr>\n",
       "    <tr>\n",
       "      <th>3</th>\n",
       "      <td>3</td>\n",
       "      <td>1</td>\n",
       "      <td>13.0</td>\n",
       "      <td>Fri, 04 Jan 2013 00:00:00 GMT</td>\n",
       "      <td>4</td>\n",
       "      <td>1</td>\n",
       "      <td>0</td>\n",
       "      <td>0.0</td>\n",
       "      <td>Riceland</td>\n",
       "      <td>1</td>\n",
       "      <td>Riceland American Jazmine Rice</td>\n",
       "      <td>0.84</td>\n",
       "      <td>35200264013</td>\n",
       "      <td>35200264013</td>\n",
       "      <td>12125 Alamo Ranch Pkwy</td>\n",
       "      <td>San Antonio</td>\n",
       "      <td>1</td>\n",
       "      <td>TX</td>\n",
       "      <td>78253</td>\n",
       "    </tr>\n",
       "    <tr>\n",
       "      <th>4</th>\n",
       "      <td>4</td>\n",
       "      <td>1</td>\n",
       "      <td>10.0</td>\n",
       "      <td>Sat, 05 Jan 2013 00:00:00 GMT</td>\n",
       "      <td>5</td>\n",
       "      <td>1</td>\n",
       "      <td>0</td>\n",
       "      <td>0.0</td>\n",
       "      <td>Riceland</td>\n",
       "      <td>1</td>\n",
       "      <td>Riceland American Jazmine Rice</td>\n",
       "      <td>0.84</td>\n",
       "      <td>35200264013</td>\n",
       "      <td>35200264013</td>\n",
       "      <td>12125 Alamo Ranch Pkwy</td>\n",
       "      <td>San Antonio</td>\n",
       "      <td>1</td>\n",
       "      <td>TX</td>\n",
       "      <td>78253</td>\n",
       "    </tr>\n",
       "  </tbody>\n",
       "</table>\n",
       "</div>"
      ],
      "text/plain": [
       "   index_x  item  sale_amount                      sale_date  sale_id  store  \\\n",
       "0        0     1         13.0  Tue, 01 Jan 2013 00:00:00 GMT        1      1   \n",
       "1        1     1         11.0  Wed, 02 Jan 2013 00:00:00 GMT        2      1   \n",
       "2        2     1         14.0  Thu, 03 Jan 2013 00:00:00 GMT        3      1   \n",
       "3        3     1         13.0  Fri, 04 Jan 2013 00:00:00 GMT        4      1   \n",
       "4        4     1         10.0  Sat, 05 Jan 2013 00:00:00 GMT        5      1   \n",
       "\n",
       "   level_0  index_y item_brand  item_id                       item_name  \\\n",
       "0        0      0.0   Riceland        1  Riceland American Jazmine Rice   \n",
       "1        0      0.0   Riceland        1  Riceland American Jazmine Rice   \n",
       "2        0      0.0   Riceland        1  Riceland American Jazmine Rice   \n",
       "3        0      0.0   Riceland        1  Riceland American Jazmine Rice   \n",
       "4        0      0.0   Riceland        1  Riceland American Jazmine Rice   \n",
       "\n",
       "   item_price   item_upc12   item_upc14           store_address   store_city  \\\n",
       "0        0.84  35200264013  35200264013  12125 Alamo Ranch Pkwy  San Antonio   \n",
       "1        0.84  35200264013  35200264013  12125 Alamo Ranch Pkwy  San Antonio   \n",
       "2        0.84  35200264013  35200264013  12125 Alamo Ranch Pkwy  San Antonio   \n",
       "3        0.84  35200264013  35200264013  12125 Alamo Ranch Pkwy  San Antonio   \n",
       "4        0.84  35200264013  35200264013  12125 Alamo Ranch Pkwy  San Antonio   \n",
       "\n",
       "   store_id store_state  store_zipcode  \n",
       "0         1          TX          78253  \n",
       "1         1          TX          78253  \n",
       "2         1          TX          78253  \n",
       "3         1          TX          78253  \n",
       "4         1          TX          78253  "
      ]
     },
     "execution_count": 14,
     "metadata": {},
     "output_type": "execute_result"
    }
   ],
   "source": [
    "df=pd.read_csv('merged_df.csv', index_col='Unnamed: 0')\n",
    "df.head()"
   ]
  },
  {
   "cell_type": "markdown",
   "id": "005af22e",
   "metadata": {},
   "source": [
    "### Question 1\n",
    "\n",
    "Convert date column to datetime format."
   ]
  },
  {
   "cell_type": "code",
   "execution_count": 16,
   "id": "cc118cfc",
   "metadata": {},
   "outputs": [],
   "source": [
    "df.sale_date = pd.to_datetime(df.sale_date, infer_datetime_format=True)"
   ]
  },
  {
   "cell_type": "markdown",
   "id": "69f3b1d6",
   "metadata": {},
   "source": [
    "### Question 2\n",
    "\n",
    "plot the distribution of sale_amount and item_price"
   ]
  },
  {
   "cell_type": "code",
   "execution_count": 17,
   "id": "c23ebd21",
   "metadata": {},
   "outputs": [
    {
     "data": {
      "image/png": "[encoded data removed]",
      "text/plain": [
       "<Figure size 432x288 with 1 Axes>"
      ]
     },
     "metadata": {
      "needs_background": "light"
     },
     "output_type": "display_data"
    },
    {
     "data": {
      "image/png": "[encoded data removed]",
      "text/plain": [
       "<Figure size 432x288 with 1 Axes>"
      ]
     },
     "metadata": {
      "needs_background": "light"
     },
     "output_type": "display_data"
    }
   ],
   "source": [
    "plt.hist(df.sale_amount)\n",
    "plt.title('sale amount')\n",
    "plt.show()\n",
    "\n",
    "plt.hist(df.item_price)\n",
    "plt.title('item price')\n",
    "plt.show()"
   ]
  },
  {
   "cell_type": "markdown",
   "id": "eda630c1",
   "metadata": {},
   "source": [
    "### Question 3\n",
    "\n",
    "Set the index to be the datetime variable."
   ]
  },
  {
   "cell_type": "code",
   "execution_count": 18,
   "id": "3f65b4cd",
   "metadata": {},
   "outputs": [],
   "source": [
    "df.set_index('sale_date', inplace=True)"
   ]
  },
  {
   "cell_type": "markdown",
   "id": "8ea4df64",
   "metadata": {},
   "source": [
    "### Question 4\n",
    "\n",
    "Add a 'month' and 'day of week' column to your dataframe."
   ]
  },
  {
   "cell_type": "code",
   "execution_count": 19,
   "id": "486ad067",
   "metadata": {},
   "outputs": [],
   "source": [
    "df['month'] = df.index.strftime('%B')\n",
    "df['day_of_week'] = df.index.strftime('%A')"
   ]
  },
  {
   "cell_type": "markdown",
   "id": "28ef759d",
   "metadata": {},
   "source": [
    "### Question 5\n",
    "\n",
    "Add a column to your dataframe, sales_total, which is a derived from sale_amount (total items) and item_price."
   ]
  },
  {
   "cell_type": "code",
   "execution_count": 20,
   "id": "20474975",
   "metadata": {},
   "outputs": [],
   "source": [
    "df['sales_total'] = df.sale_amount * df.item_price"
   ]
  },
  {
   "cell_type": "markdown",
   "id": "5a2ab386",
   "metadata": {},
   "source": [
    "### Question 6\n",
    "\n",
    "Make sure all the work that you have done above is reproducible. That is, you should put the code above into separate functions and be able to re-run the functions and get the same results."
   ]
  },
  {
   "cell_type": "code",
   "execution_count": 21,
   "id": "08f4894f",
   "metadata": {},
   "outputs": [],
   "source": [
    "def convert_to_datetime(df):\n",
    "    df.sale_date = pd.to_datetime(df.sale_date, infer_datetime_format=True)\n",
    "    df.set_index('sale_date', inplace=True)\n",
    "    return df\n",
    "\n",
    "def month_weekday(df):\n",
    "    df['month'] = df.index.strftime('%B')\n",
    "    df['day_of_week'] = df.index.strftime('%A')\n",
    "    return df\n",
    "\n",
    "def sales(df):\n",
    "    df['sales_total'] = df.sale_amount * df.item_price\n",
    "    return df"
   ]
  },
  {
   "cell_type": "markdown",
   "id": "3ec22f54",
   "metadata": {},
   "source": [
    "## German power data\n",
    "\n",
    "### Question 1\n",
    "\n",
    "Convert date column to datetime format."
   ]
  },
  {
   "cell_type": "code",
   "execution_count": 22,
   "id": "2fe270f9",
   "metadata": {},
   "outputs": [],
   "source": [
    "df_power = pd.read_csv('power.csv', index_col='Unnamed: 0')\n",
    "df_power.Date = pd.to_datetime(df_power.Date, infer_datetime_format=True)"
   ]
  },
  {
   "cell_type": "markdown",
   "id": "c2421310",
   "metadata": {},
   "source": [
    "### Question 2\n",
    "\n",
    "Plot the distribution of each of your variables."
   ]
  },
  {
   "cell_type": "code",
   "execution_count": 23,
   "id": "4d3be50c",
   "metadata": {},
   "outputs": [
    {
     "data": {
      "image/png": "[encoded data removed]",
      "text/plain": [
       "<Figure size 432x288 with 1 Axes>"
      ]
     },
     "metadata": {
      "needs_background": "light"
     },
     "output_type": "display_data"
    },
    {
     "data": {
      "image/png": "[encoded data removed]",
      "text/plain": [
       "<Figure size 432x288 with 1 Axes>"
      ]
     },
     "metadata": {
      "needs_background": "light"
     },
     "output_type": "display_data"
    },
    {
     "data": {
      "image/png": "[encoded data removed]",
      "text/plain": [
       "<Figure size 432x288 with 1 Axes>"
      ]
     },
     "metadata": {
      "needs_background": "light"
     },
     "output_type": "display_data"
    },
    {
     "data": {
      "image/png": "[encoded data removed]",
      "text/plain": [
       "<Figure size 432x288 with 1 Axes>"
      ]
     },
     "metadata": {
      "needs_background": "light"
     },
     "output_type": "display_data"
    }
   ],
   "source": [
    "for col in list(df_power.columns.drop('Date')):\n",
    "    plt.figure()\n",
    "    sns.histplot(df_power[col])\n",
    "    plt.title('Distribution of {}'.format(col))"
   ]
  },
  {
   "cell_type": "markdown",
   "id": "88714af0",
   "metadata": {},
   "source": [
    "### Question 3\n",
    "\n",
    "Set the index to be the datetime variable."
   ]
  },
  {
   "cell_type": "code",
   "execution_count": 24,
   "id": "977e26f7",
   "metadata": {},
   "outputs": [],
   "source": [
    "df_power.set_index('Date', inplace=True)"
   ]
  },
  {
   "cell_type": "markdown",
   "id": "0887ad78",
   "metadata": {},
   "source": [
    "### Question 4\n",
    "\n",
    "Add a month and a year column to your dataframe."
   ]
  },
  {
   "cell_type": "code",
   "execution_count": 25,
   "id": "a0215ee5",
   "metadata": {},
   "outputs": [],
   "source": [
    "df_power['month'] = df_power.index.strftime('%B')\n",
    "df_power['year'] = df_power.index.strftime('%Y')"
   ]
  },
  {
   "cell_type": "markdown",
   "id": "cd67c6e2",
   "metadata": {},
   "source": [
    "### Question 5\n",
    "\n",
    "fill any missing values"
   ]
  },
  {
   "cell_type": "code",
   "execution_count": 26,
   "id": "f21d34d1",
   "metadata": {},
   "outputs": [],
   "source": [
    "df_power.fillna(0, inplace=True)"
   ]
  },
  {
   "cell_type": "markdown",
   "id": "361935a7",
   "metadata": {},
   "source": [
    "### Question 6\n",
    "\n",
    "Make sure all the work that you have done above is reproducible. That is, you should put the code above into separate functions and be able to re-run the functions and get the same results."
   ]
  }
 ],
 "metadata": {
  "kernelspec": {
   "display_name": "Python 3 (ipykernel)",
   "language": "python",
   "name": "python3"
  },
  "language_info": {
   "codemirror_mode": {
    "name": "ipython",
    "version": 3
   },
   "file_extension": ".py",
   "mimetype": "text/x-python",
   "name": "python",
   "nbconvert_exporter": "python",
   "pygments_lexer": "ipython3",
   "version": "3.9.7"
  }
 },
 "nbformat": 4,
 "nbformat_minor": 5
}
